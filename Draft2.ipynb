{
 "cells": [
  {
   "cell_type": "code",
   "execution_count": 0,
   "metadata": {
    "collapsed": true,
    "pycharm": {
     "is_executing": false
    }
   },
   "outputs": [],
   "source": []
  },
  {
   "cell_type": "code",
   "execution_count": 1,
   "outputs": [
    {
     "name": "stdout",
     "text": [
      "imported EMNIST libraries\n"
     ],
     "output_type": "stream"
    }
   ],
   "source": [
    "# Referencing Crash Course AI #5\n",
    "\n",
    "# 1.Find or create a dataset to train neural network\n",
    "\n",
    "from emnist import extract_test_samples\n",
    "\n",
    "# EMNIST letters chunk dataset\n",
    "# Has 145600 images\n",
    "print(\"imported EMNIST libraries\")\n"
   ],
   "metadata": {
    "collapsed": false,
    "pycharm": {
     "name": "#%%\n",
     "is_executing": false
    }
   }
  },
  {
   "cell_type": "code",
   "execution_count": 2,
   "outputs": [
    {
     "name": "stdout",
     "text": [
      "Extracted samples. Divided training and testing data sets.\n"
     ],
     "output_type": "stream"
    }
   ],
   "source": [
    "\n",
    "# x images, y labels\n",
    "x, y = extract_test_samples('letters')\n",
    "\n",
    "# convert pixels values from 0-255 to 0-1\n",
    "# so that easier for NN to process\n",
    "x = x / 255\n",
    "\n",
    "# first 60000 images as training set, next 10000 images as test set\n",
    "x_train, x_test = x[:18000], x[18000:20800]\n",
    "# first 60000 labels as training set, next 10000 labels as test set\n",
    "y_train, y_test = y[:18000], y[18000:20800]\n",
    "\n",
    "# record number of samples in each dataset\n",
    "# and number of pixels in each image\n",
    "x_train = x_train.reshape(18000, 784)\n",
    "x_test = x_test.reshape(2800, 784)\n",
    "\n",
    "print(\"Extracted samples. Divided training and testing data sets.\")\n",
    "\n",
    "# images are 28x28 pixels\n",
    "# each pixel is greyscale value between 0 and 255\n",
    "\n",
    "\n",
    "\n",
    "\n"
   ],
   "metadata": {
    "collapsed": false,
    "pycharm": {
     "name": "#%%\n",
     "is_executing": false
    }
   }
  },
  {
   "cell_type": "code",
   "execution_count": 3,
   "outputs": [
    {
     "name": "stdout",
     "text": [
      "Image Label: m\n"
     ],
     "output_type": "stream"
    },
    {
     "data": {
      "text/plain": "<matplotlib.image.AxesImage at 0x12bcf630>"
     },
     "metadata": {},
     "output_type": "execute_result",
     "execution_count": 3
    },
    {
     "data": {
      "text/plain": "<Figure size 432x288 with 1 Axes>",
      "image/png": "[encoded data removed]"
     },
     "metadata": {
      "needs_background": "light"
     },
     "output_type": "display_data"
    }
   ],
   "source": [
    "import numpy as np\n",
    "import matplotlib.pyplot as plt\n",
    "\n",
    "img_index = 10000\n",
    "img = x_train[img_index]\n",
    "#print(img)\n",
    "#chr() converts ASCII character to it's corresponding character\n",
    "print(\"Image Label: \" + chr(y_train[img_index]+96))\n",
    "plt.imshow(img.reshape((28,28)))\n",
    "#help(img.reshape)"
   ],
   "metadata": {
    "collapsed": false,
    "pycharm": {
     "name": "#%%\n",
     "is_executing": false
    }
   }
  },
  {
   "cell_type": "code",
   "execution_count": 4,
   "outputs": [
    {
     "traceback": [
      "\u001b[1;36m  File \u001b[1;32m\"<ipython-input-4-c6ac28181e96>\"\u001b[1;36m, line \u001b[1;32m43\u001b[0m\n\u001b[1;33m    mlp1 = MLPClassifier(hidden_layer_sizes=(50,),max_iter=20,alpha=1e)\u001b[0m\n\u001b[1;37m                                                                     ^\u001b[0m\n\u001b[1;31mSyntaxError\u001b[0m\u001b[1;31m:\u001b[0m invalid syntax\n"
     ],
     "ename": "SyntaxError",
     "evalue": "invalid syntax (<ipython-input-4-c6ac28181e96>, line 43)",
     "output_type": "error"
    }
   ],
   "source": [
    "# 2.build neural network\n",
    "# multilayered perceptron neural network (MLP)\n",
    "# can use python library sklearn\n",
    "# sklearn has heaps machine learning algorithms\n",
    "# will be using it's multilayered perceptron \n",
    "\n",
    "# For input layer\n",
    "# each image is 28 x 28 pixels\n",
    "# each pixel represented by single input neuron\n",
    "# will have 784 neurons in total\n",
    "\n",
    "# depending how dark a pixel is\n",
    "# will have greyscale value between 0 and 1\n",
    "\n",
    "# For output layer\n",
    "# size of output layer depends on label types that \n",
    "# want neural network to guess\n",
    "# since trying to guess letters \n",
    "# and there's 26 letters,\n",
    "# so will have 26 output neurons\n",
    "\n",
    "# For hidden layers\n",
    "# can experiment\n",
    "# try hidden layer containing 50 neurons\n",
    "\n",
    "# Over span of epoch\n",
    "# each of the 18000 images in the training data set\n",
    "# will be processed by the input neurons\n",
    "# hidden layer neuron will randomly pick aspects of each image\n",
    "# to focus on\n",
    "# output layer neurons will guess as to which image is which letter\n",
    "\n",
    "# After each of the 18000 images are processed\n",
    "# neural net will compare it's guess to the actual label\n",
    "# and update weights and biases to give it better guess for the next image\n",
    "\n",
    "# as epochs/iterations goes on, neural network prediction will keep getting better\n",
    "\n",
    "#import ML libraries\n",
    "from sklearn.datasets import fetch_openml\n",
    "from sklearn.neural_network import MLPClassifier\n",
    "\n",
    "#mlp1 = MLPClassifier(hidden_layer_sizes=(50,),max_iter=20,alpha=1e)\n",
    "#help(MLPClassifier)\n",
    "\n",
    "\n",
    "\n"
   ],
   "metadata": {
    "collapsed": false,
    "pycharm": {
     "name": "#%%\n",
     "is_executing": false
    }
   }
  },
  {
   "cell_type": "code",
   "execution_count": 5,
   "outputs": [
    {
     "name": "stdout",
     "text": [
      "      price      brand    model  year   mileage\n",
      "1      6300     toyota  cruiser  2008  274117.0\n",
      "2      2899       ford       se  2011  190552.0\n",
      "3      5350      dodge      mpv  2018   39590.0\n",
      "4     25000       ford     door  2014   64146.0\n",
      "5     27700  chevrolet     1500  2018    6654.0\n",
      "...     ...        ...      ...   ...       ...\n",
      "2495   7800     nissan    versa  2019   23609.0\n",
      "2496   9200     nissan    versa  2018   34553.0\n",
      "2497   9200     nissan    versa  2018   31594.0\n",
      "2498   9200     nissan    versa  2018   32557.0\n",
      "2499   9200     nissan    versa  2018   31371.0\n",
      "\n",
      "[2499 rows x 5 columns]\n",
      "Least Squares method using np.polyfit()\n",
      "slope is -0.08134245905198012\n",
      "intercept is 23021.775150244102 \n",
      "\n",
      "Least Squares method using calculation formula\n",
      "slope is -0.08134245905197965\n",
      "intercept is 23021.77515024407 \n",
      "\n",
      "Least Squares method using scipy.stats.linregress\n",
      "slope is -0.08134245905197962\n",
      "intercept is 23021.77515024407 \n",
      "\n",
      "In line of best fit, \n",
      "slope is -0.08134245905198012\n",
      "intercept is 23021.775150244102\n",
      "it's sum of squares is  307786713180.7888 \n",
      "\n"
     ],
     "output_type": "stream"
    },
    {
     "data": {
      "text/plain": "Text(0, 0.5, 'sum of squares value')"
     },
     "metadata": {},
     "output_type": "execute_result",
     "execution_count": 5
    },
    {
     "data": {
      "text/plain": "<Figure size 432x288 with 1 Axes>",
      "image/png": "[encoded data removed]"
     },
     "metadata": {
      "needs_background": "light"
     },
     "output_type": "display_data"
    },
    {
     "data": {
      "text/plain": "<Figure size 432x288 with 1 Axes>",
      "image/png": "[encoded data removed]"
     },
     "metadata": {
      "needs_background": "light"
     },
     "output_type": "display_data"
    }
   ],
   "source": [
    "#Least Squares Method\n",
    "\n",
    "import numpy as np\n",
    "import pandas as pd\n",
    "import matplotlib.pyplot as plt\n",
    "from scipy import stats\n",
    "\n",
    "data = pd.read_csv(\"USA_cars_datasets.csv\")\n",
    "\n",
    "df = pd.DataFrame(data,index=data.index)\n",
    "df.index += 1\n",
    "\n",
    "print(df[[\"price\",\"brand\",\"model\",\"year\",\"mileage\"]])\n",
    "\n",
    "price = df[\"price\"]\n",
    "brand = df[\"brand\"]\n",
    "model = df[\"model\"]\n",
    "year = df[\"year\"]\n",
    "mileage = df[\"mileage\"]\n",
    "\n",
    "x = mileage.values\n",
    "y = price.values\n",
    "\n",
    "mean_x = np.mean(x)\n",
    "mean_y = np.mean(y)\n",
    "\n",
    "m = 0\n",
    "c = 0\n",
    "n = len(x)\n",
    "\n",
    "plt.figure(1)\n",
    "\n",
    "plt.plot(x,y,'rx')\n",
    "\n",
    "m,c = np.polyfit(x,y,1)\n",
    "plt.plot(x,m*x+c,\"b-\")\n",
    "\n",
    "plt.ylim(0,)\n",
    "plt.xlabel(\"mileage\")\n",
    "plt.ylabel(\"price\")\n",
    "\n",
    "print(\"Least Squares method using np.polyfit()\")\n",
    "print(\"slope is\",m)\n",
    "print(\"intercept is\",c,\"\\n\")\n",
    "\n",
    "\n",
    "# slope of best fit line defined as\n",
    "# m = ()\n",
    "# least squares line\n",
    "#calculate_slope = (n*(sum(x*y))-sum(x)*sum(y))/(n*(sum(x^2))-(sum(x))^2)\n",
    "#calculate_intercept = (sum(y)-calculate_slope * sum(x))/n\n",
    "\n",
    "def slope_and_intercept():\n",
    "    sum_of_xy = 0\n",
    "    sum_of_x = 0\n",
    "    sum_of_y = 0\n",
    "    sum_of_x_squared = 0\n",
    "    amount_of_elements = n\n",
    "    for i in range(amount_of_elements):\n",
    "        sum_of_xy += x[i]*y[i]\n",
    "        sum_of_x += x[i]\n",
    "        sum_of_y += y[i]\n",
    "        sum_of_x_squared += np.square(x[i])\n",
    "    slope_of_line = ((amount_of_elements*(sum_of_xy))-(sum_of_x*sum_of_y))/(amount_of_elements*(sum_of_x_squared)-np.square(sum_of_x))\n",
    "    intercept_of_line = ((sum_of_y)-slope_of_line*sum_of_x)/amount_of_elements     \n",
    "    \n",
    "    return slope_of_line,intercept_of_line\n",
    "a,b = slope_and_intercept()\n",
    "#print(a,b)\n",
    "print(\"Least Squares method using calculation formula\")\n",
    "print(\"slope is\",a)\n",
    "print(\"intercept is\",b,\"\\n\")\n",
    "\n",
    "\n",
    "slope, intercept, r_value, p_value, std_err = stats.linregress(x, y)\n",
    "print(\"Least Squares method using scipy.stats.linregress\")\n",
    "print(\"slope is\",slope)\n",
    "print(\"intercept is\",intercept,\"\\n\")\n",
    "\n",
    "#Sum of squared residuals\n",
    "def SSR(m,c):\n",
    "    # SSR = sum(((c+m*xi)-yi)^2)\n",
    "    # where (x,y) is xi,yi\n",
    "    # and c = intercept, m = slope of best fit line\n",
    "    # and (c+m*xi) is value xi, on best fit line\n",
    "    # and yi is observed actual value from data at xi\n",
    "    # hence calculating distance between line and observed value\n",
    "    sum_of_squared_residuals = 0\n",
    "    for i in range(n):\n",
    "        sum_of_squared_residuals += np.square((m*x[i]+c)-y[i])\n",
    "    return sum_of_squared_residuals\n",
    "\n",
    "ssr_index = np.arange(1,8)\n",
    "ssr_values = np.empty(7)\n",
    "\n",
    "ssr_values[0] = SSR(-0.05,c)\n",
    "ssr_values[1] = SSR(-0.06,c)\n",
    "ssr_values[2] = SSR(-0.07,c)\n",
    "ssr_values[3] = SSR(m,c)\n",
    "ssr_values[4] = SSR(-0.09, c)\n",
    "ssr_values[5] = SSR(-0.1,c)\n",
    "ssr_values[6] = SSR(-0.11,c)\n",
    "\n",
    "print(\"In line of best fit, \")\n",
    "print(\"slope is\",m)\n",
    "print(\"intercept is\",c)\n",
    "print(\"it's sum of squares is \",ssr_values[3],\"\\n\")\n",
    "\n",
    "plt.figure(2)\n",
    "plt.plot(ssr_index,ssr_values,\"x\")\n",
    "plt.xlabel(\"sum of squares index\")\n",
    "plt.ylabel(\"sum of squares value\")"
   ],
   "metadata": {
    "collapsed": false,
    "pycharm": {
     "name": "#%%\n",
     "is_executing": false
    }
   }
  },
  {
   "cell_type": "code",
   "execution_count": null,
   "outputs": [],
   "source": [
    "\n",
    "\n"
   ],
   "metadata": {
    "collapsed": false,
    "pycharm": {
     "name": "#%%\n",
     "is_executing": false
    }
   }
  }
 ],
 "metadata": {
  "kernelspec": {
   "display_name": "Python 3",
   "language": "python",
   "name": "python3"
  },
  "language_info": {
   "codemirror_mode": {
    "name": "ipython",
    "version": 2
   },
   "file_extension": ".py",
   "mimetype": "text/x-python",
   "name": "python",
   "nbconvert_exporter": "python",
   "pygments_lexer": "ipython2",
   "version": "2.7.6"
  },
  "pycharm": {
   "stem_cell": {
    "cell_type": "raw",
    "source": [],
    "metadata": {
     "collapsed": false
    }
   }
  }
 },
 "nbformat": 4,
 "nbformat_minor": 0
}